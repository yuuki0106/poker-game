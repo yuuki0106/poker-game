#53までのリストの数字を入れ替えする（シャッフル）

c='♣'
s='♠'
h='♥'
d='♦'

import random
tcd=[0]*53
cardNo=[0]*14
mark=[0]*5
for i in range(53):
    tcd[i]=i
for i in range(1,53):
    r=random.randint(1,52)
#一回tmpに置き換えといて後から持ってくる
    tmp=tcd[i]
    tcd[i]=tcd[r]
    tcd[r]=tmp
tcd[1]=1
tcd[2]=2
tcd[3]=16
tcd[4]=4
tcd[5]=5
for i in range(1,6):
    if (tcd[i]>=1)and(tcd[i]<14):
        print(c,tcd[i])
        wnum=tcd[i]
        cardNo[wnum]=cardNo[wnum]+1
    elif (tcd[i]>=14)and(tcd[i]<27):
        print(s,tcd[i]-13)
        wnum=tcd[i]-13
        cardNo[wnum]=cardNo[wnum]+1
    
    elif (tcd[i]>=27)and(tcd[i]<40):
        print(h,tcd[i]-26)
        wnum=tcd[i]-26
        cardNo[wnum]=cardNo[wnum]+1
    elif (tcd[i]>=40)and(tcd[i]<53):
        print(d,tcd[i]-39)
        wnum=tcd[i]-39
        cardNo[wnum]=cardNo[wnum]+1


for i in range(1,6):
    if (tcd[i]>=1)and(tcd[i]<14):
        fra=c
        mark[1]=mark[1]+1
    
    elif (tcd[i]>=14)and(tcd[i]<27):
        fra=s
        mark[2]=mark[2]+1
    
    elif (tcd[i]>=27)and(tcd[i]<40):
        fra=h
        mark[3]=mark[3]+1
   
    elif (tcd[i]>=40)and(tcd[i]<53):
        fra=d
        mark[4]=mark[4]+1
        
cnt=0
for i in range(1,14):
    if(cardNo[i]==1):
        cnt+=1
        if(cnt==5):
            yaku=7
    else:
        cnt=0
if((cnt==4)and(cardNo[1]==1)):
    yaku=8
        
    
if (cardNo[10]==1)and(cardNo[11]==1)and(cardNo[12]==1)and(cardNo[13]==1)and(cardNo[1]==1):
    yaku=7
    #print('ストレート')



for i in range(1,5):
    if(mark[i]==5):
        yaku=6


for i in range(1,14):
    if (cardNo[i]==2):
        yaku=yaku+1  
    if(cardNo[i]==3):
        yaku=yaku+3
    if(cardNo[i]==5):
        yaku=yaku+5
    
#yaku=yaku+1


if (yaku==0):
    print('役なし')
elif (yaku==1):
    print('ワンペア')
elif (yaku==2):
    print('ツーペア')
elif (yaku==3):
    print('スリーカード')
elif(yaku==5):
    print('フォーカード')
elif(yaku==4):
    print('フルハウス')
elif(yaku==6):
    print('フラッシュ')
elif(yaku==7):
    print('ストレート')
elif(yaku==8):
    print('ストレートフラッシュ')

        

    

print(cardNo)      


#最初の5枚を表示させる(1-13くらぶ、14-26スペード,27-39ハート,40-52ダイヤ)
#これも正解
#yakuという変数を作ってcardNoをみていって(13回繰り返し)2があればペア2回あれば2ペア
#3があればスリーカード
#ストレートの判定をする
